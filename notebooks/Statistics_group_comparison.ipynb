{
 "cells": [
  {
   "cell_type": "markdown",
   "metadata": {},
   "source": [
    "# Statistical analyses of metabolite features (group comparison)\n",
    "\n",
    "This notebook is about statistical analyses at feature level. This uses a data table after preprocessing, quality control and normalization. Annotation is not necessary at this step.\n",
    "\n",
    "Common study designs are\n",
    "* group comparison\n",
    "* linear regression to test association with a variable\n",
    "* time series\n",
    "\n",
    "Each is a separte topic, and this notebook deals with group comparisons.\n",
    "Please refer to this paper for extended discussions:\n",
    "\n",
    "Gardinassi L, Xia J, Safo S, Li S. (2017) Bioinformatics tools for the interpretation of metabolomics data. Current Pharmacology Reports, December 2017, Volume 3, Issue 6, pp 374–383. DOI: 10.1007/s40495-017-0107-0. "
   ]
  },
  {
   "cell_type": "code",
   "execution_count": 1,
   "metadata": {
    "collapsed": false
   },
   "outputs": [
    {
     "data": {
      "text/html": [
       "<div>\n",
       "<table border=\"1\" class=\"dataframe\">\n",
       "  <thead>\n",
       "    <tr style=\"text-align: right;\">\n",
       "      <th></th>\n",
       "      <th>mz</th>\n",
       "      <th>retention_time</th>\n",
       "      <th>mock_6hr_01</th>\n",
       "      <th>mock_6hr_02</th>\n",
       "      <th>mock_6hr_03</th>\n",
       "      <th>p_0hr_01</th>\n",
       "      <th>p_0hr_02</th>\n",
       "      <th>p_0hr_03</th>\n",
       "      <th>yf_6hr_01</th>\n",
       "      <th>yf_6hr_02</th>\n",
       "      <th>yf_6hr_03</th>\n",
       "    </tr>\n",
       "  </thead>\n",
       "  <tbody>\n",
       "    <tr>\n",
       "      <th>0</th>\n",
       "      <td>85.02783</td>\n",
       "      <td>59</td>\n",
       "      <td>17.23</td>\n",
       "      <td>17.18</td>\n",
       "      <td>17.44</td>\n",
       "      <td>15.67</td>\n",
       "      <td>15.57</td>\n",
       "      <td>17.26</td>\n",
       "      <td>16.94</td>\n",
       "      <td>16.98</td>\n",
       "      <td>16.56</td>\n",
       "    </tr>\n",
       "    <tr>\n",
       "      <th>1</th>\n",
       "      <td>85.04717</td>\n",
       "      <td>124</td>\n",
       "      <td>16.53</td>\n",
       "      <td>15.80</td>\n",
       "      <td>16.62</td>\n",
       "      <td>14.37</td>\n",
       "      <td>14.85</td>\n",
       "      <td>15.63</td>\n",
       "      <td>16.71</td>\n",
       "      <td>15.65</td>\n",
       "      <td>16.27</td>\n",
       "    </tr>\n",
       "    <tr>\n",
       "      <th>2</th>\n",
       "      <td>85.06532</td>\n",
       "      <td>68</td>\n",
       "      <td>10.80</td>\n",
       "      <td>10.61</td>\n",
       "      <td>11.36</td>\n",
       "      <td>14.87</td>\n",
       "      <td>14.89</td>\n",
       "      <td>12.53</td>\n",
       "      <td>14.42</td>\n",
       "      <td>14.03</td>\n",
       "      <td>10.81</td>\n",
       "    </tr>\n",
       "    <tr>\n",
       "      <th>3</th>\n",
       "      <td>85.10073</td>\n",
       "      <td>16</td>\n",
       "      <td>13.32</td>\n",
       "      <td>13.16</td>\n",
       "      <td>13.42</td>\n",
       "      <td>13.77</td>\n",
       "      <td>12.42</td>\n",
       "      <td>13.31</td>\n",
       "      <td>12.99</td>\n",
       "      <td>12.99</td>\n",
       "      <td>12.95</td>\n",
       "    </tr>\n",
       "    <tr>\n",
       "      <th>4</th>\n",
       "      <td>86.05951</td>\n",
       "      <td>67</td>\n",
       "      <td>18.42</td>\n",
       "      <td>18.15</td>\n",
       "      <td>18.37</td>\n",
       "      <td>15.18</td>\n",
       "      <td>17.02</td>\n",
       "      <td>17.91</td>\n",
       "      <td>17.76</td>\n",
       "      <td>17.67</td>\n",
       "      <td>15.15</td>\n",
       "    </tr>\n",
       "  </tbody>\n",
       "</table>\n",
       "</div>"
      ],
      "text/plain": [
       "         mz  retention_time  mock_6hr_01  mock_6hr_02  mock_6hr_03  p_0hr_01  \\\n",
       "0  85.02783              59        17.23        17.18        17.44     15.67   \n",
       "1  85.04717             124        16.53        15.80        16.62     14.37   \n",
       "2  85.06532              68        10.80        10.61        11.36     14.87   \n",
       "3  85.10073              16        13.32        13.16        13.42     13.77   \n",
       "4  86.05951              67        18.42        18.15        18.37     15.18   \n",
       "\n",
       "   p_0hr_02  p_0hr_03  yf_6hr_01  yf_6hr_02  yf_6hr_03  \n",
       "0     15.57     17.26      16.94      16.98      16.56  \n",
       "1     14.85     15.63      16.71      15.65      16.27  \n",
       "2     14.89     12.53      14.42      14.03      10.81  \n",
       "3     12.42     13.31      12.99      12.99      12.95  \n",
       "4     17.02     17.91      17.76      17.67      15.15  "
      ]
     },
     "execution_count": 1,
     "metadata": {},
     "output_type": "execute_result"
    }
   ],
   "source": [
    "import os\n",
    "import pandas as pd\n",
    "import numpy as np\n",
    "from scipy import stats\n",
    "import matplotlib.pyplot as plt\n",
    "from statsmodels.sandbox.stats.multicomp import multipletests\n",
    "\n",
    "%matplotlib inline\n",
    "\n",
    "INDIR = \"./input_data/\"\n",
    "datafile = \"ave_log2_modc_ae_2012.txt\"\n",
    "data = pd.read_table(os.path.join(INDIR + datafile))\n",
    "data.head()"
   ]
  },
  {
   "cell_type": "code",
   "execution_count": 2,
   "metadata": {
    "collapsed": false
   },
   "outputs": [
    {
     "name": "stdout",
     "output_type": "stream",
     "text": [
      "('groups: ', (['p_0hr_01', 'p_0hr_02', 'p_0hr_03'], ['mock_6hr_01', 'mock_6hr_02', 'mock_6hr_03'], ['yf_6hr_01', 'yf_6hr_02', 'yf_6hr_03']))\n"
     ]
    }
   ],
   "source": [
    "# get group definition\n",
    "# This can be from user supplied file.\n",
    "\n",
    "# manually define here for this example dataset\n",
    "header = [x for x in data]\n",
    "baseline = [x for x in header[2:] if '0hr' in x]\n",
    "mock = [x for x in header[2:] if 'mock_6hr' in x]\n",
    "yfv = [x for x in header[2:] if 'yf_6hr' in x]\n",
    "\n",
    "print(\"groups: \", (baseline, mock, yfv))"
   ]
  },
  {
   "cell_type": "markdown",
   "metadata": {},
   "source": [
    "## Compare two groups\n",
    "Student's t-test is a parametric method commonly used to compare two groups. But the method assume normal distribution of data. If data contain a lot of missing values, nonparametric methods are better suited, e.g. Mann-Whitney U test (stats.mannwhitneyu).\n",
    "A paired test should be used on repeated measurements (e.g. stats.ttest_rel)."
   ]
  },
  {
   "cell_type": "code",
   "execution_count": 3,
   "metadata": {
    "collapsed": false
   },
   "outputs": [],
   "source": [
    "number_features = data.shape[0]\n",
    "# this line select columns by sample names\n",
    "data_baseline, data_mock, data_yfv = data[baseline].values, data[mock].values, data[yfv].values\n",
    "\n",
    "# compare yfv and baseline\n",
    "t_scores, p_values, fdrs = [], [], []\n",
    "for ii in range(number_features):\n",
    "    # this is t-test on independent samples\n",
    "    t,p = stats.ttest_ind(data_yfv[ii,:], data_baseline[ii,:])\n",
    "    # nan may be returned\n",
    "    if np.isnan(t):\n",
    "        t,p = 0,1\n",
    "    t_scores.append(t)\n",
    "    p_values.append(p)\n",
    "        \n",
    "# Compute FDR using Benjamini-Hochberg procedure\n",
    "fdrs = multipletests(p_values, method = 'fdr_bh')[1]\n",
    "\n",
    "#sort output\n",
    "new = []\n",
    "for ii in range(number_features):\n",
    "    mz, rtime = data.values[ii, :2]\n",
    "    new.append([p_values[ii]] + [str(x) for x in [\n",
    "                mz, rtime, p_values[ii], t_scores[ii], fdrs[ii], 'row_'+str(ii+1)]])\n",
    "new.sort()\n",
    "\n",
    "# output format \n",
    "# mz, rtime, p, t, row_num, \n",
    "s = '\\t'.join(['m/z', 'retention_time', 'p-value', 't-score', 'FDR_BH'\n",
    "                   'row_number']) + '\\n'\n",
    "for L in new:\n",
    "    s += '\\t'.join(L[1:]) + '\\n'\n",
    "    \n",
    "with open(\"ttest_yfv_baseline_\" + datafile, \"w\") as file:\n",
    "    file.write(s)"
   ]
  },
  {
   "cell_type": "markdown",
   "metadata": {},
   "source": [
    "## Multiple group comparison using ANOVA\n"
   ]
  },
  {
   "cell_type": "code",
   "execution_count": 4,
   "metadata": {
    "collapsed": true
   },
   "outputs": [],
   "source": [
    "# compare 3 groups\n",
    "t_scores, p_values, fdrs = [], [], []\n",
    "for ii in range(number_features):\n",
    "    # t is actually f-score here\n",
    "    t,p = stats.f_oneway(data_yfv[ii,:], data_mock[ii,:], data_baseline[ii,:])\n",
    "    # nan may be returned\n",
    "    if np.isnan(t):\n",
    "        t,p = 0,1\n",
    "    t_scores.append(t)\n",
    "    p_values.append(p)\n",
    "        \n",
    "# Compute FDR using Benjamini-Hochberg procedure\n",
    "fdrs = multipletests(p_values, method = 'fdr_bh')[1]\n",
    "\n",
    "#sort output\n",
    "new = []\n",
    "for ii in range(number_features):\n",
    "    mz, rtime = data.values[ii, :2]\n",
    "    new.append([p_values[ii]] + [str(x) for x in [\n",
    "                mz, rtime, p_values[ii], t_scores[ii], fdrs[ii], 'row_'+str(ii+1)]])\n",
    "new.sort()\n",
    "\n",
    "# output format \n",
    "# mz, rtime, p, t, row_num, \n",
    "s = '\\t'.join(['m/z', 'retention_time', 'p-value', 'f-score', 'FDR_BH'\n",
    "                   'row_number']) + '\\n'\n",
    "for L in new:\n",
    "    s += '\\t'.join(L[1:]) + '\\n'\n",
    "    \n",
    "with open(\"ANOVA_\" + datafile, \"w\") as file:\n",
    "    file.write(s)"
   ]
  }
 ],
 "metadata": {
  "kernelspec": {
   "display_name": "Python 2",
   "language": "python",
   "name": "python2"
  },
  "language_info": {
   "codemirror_mode": {
    "name": "ipython",
    "version": 2
   },
   "file_extension": ".py",
   "mimetype": "text/x-python",
   "name": "python",
   "nbconvert_exporter": "python",
   "pygments_lexer": "ipython2",
   "version": "2.7.13"
  }
 },
 "nbformat": 4,
 "nbformat_minor": 2
}
